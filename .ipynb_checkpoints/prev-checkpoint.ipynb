{
 "cells": [
  {
   "cell_type": "code",
   "execution_count": 2,
   "metadata": {
    "collapsed": true
   },
   "outputs": [],
   "source": [
    "class Line():\n",
    "    def __init__(self):\n",
    "        # was the line detected in the last iteration?\n",
    "        self.detected = False  \n",
    "        # x values of the last n fits of the line\n",
    "        self.recent_xfitted = [] \n",
    "        #average x values of the fitted line over the last n iterations\n",
    "        self.bestx = None     \n",
    "        #polynomial coefficients averaged over the last n iterations\n",
    "        self.best_fit = None  \n",
    "        #polynomial coefficients for the most recent fit\n",
    "        self.current_fit = []  \n",
    "        #radius of curvature of the line in some units\n",
    "        self.radius_of_curvature = None \n",
    "        #distance in meters of vehicle center from the line\n",
    "        self.line_base_pos = None \n",
    "        #difference in fit coefficients between last and new fits\n",
    "        self.diffs = np.array([0,0,0], dtype='float') \n",
    "        #number of detected pixels\n",
    "        self.px_count = None\n",
    "        \n",
    "    def add_fit(self, fit, lane_x, lane_y):\n",
    "        # add a found fit to the line, up to n\n",
    "        if fit is not None:\n",
    "            if self.best_fit is not None:\n",
    "                # if we have a best fit, see how this new fit compares\n",
    "                self.diffs = abs(fit-self.best_fit)\n",
    "            if (self.diffs[0] > 0.001 or \\\n",
    "               self.diffs[1] > 1.0 or \\\n",
    "               self.diffs[2] > 100.) and \\\n",
    "               len(self.current_fit) > 0:\n",
    "                # bad fit! abort! abort! ... well, unless there are no fits in the current_fit queue, then we'll take it\n",
    "                self.detected = False\n",
    "            else:\n",
    "                self.detected = True\n",
    "                self.px_count = len(lane_x)\n",
    "                self.current_fit.append(fit)\n",
    "                if len(self.current_fit) > 5:\n",
    "                    # throw out old fits, keep newest n\n",
    "                    self.current_fit = self.current_fit[len(self.current_fit)-5:]\n",
    "                self.best_fit = np.average(self.current_fit, axis=0)\n",
    "        # or remove one from the history, if not found\n",
    "        else:\n",
    "            self.detected = False\n",
    "            if len(self.current_fit) > 0:\n",
    "                # throw out oldest fit\n",
    "                self.current_fit = self.current_fit[:len(self.current_fit)-1]\n",
    "            if len(self.current_fit) > 0:\n",
    "                # if there are still any fits in the queue, best_fit is their average\n",
    "                self.best_fit = np.average(self.current_fit, axis=0)"
   ]
  },
  {
   "cell_type": "code",
   "execution_count": 4,
   "metadata": {
    "collapsed": true
   },
   "outputs": [],
   "source": [
    "def find_lanes_prev(binary_img, l_best_fit, r_best_fit, margin):\n",
    "    ret, left_fit, right_fit, left_lane_x, right_lane_x, left_lane_y, right_lane_y = fit_using_prev_window(binary_img, l_best_fit, r_best_fit, margin)\n",
    "\n",
    "    height = binary_img.shape[0]\n",
    "    \n",
    "    if ret:\n",
    "        left_fit_x_int = left_fit[0]*height**2 + left_fit[1]*height + left_fit[2]\n",
    "        right_fit_x_int = right_fit[0]*height**2 + right_fit[1]*height + right_fit[2]\n",
    "    \n",
    "    else:\n",
    "        left_fit_x_int = 0\n",
    "        right_fit_x_int = 0\n",
    "        \n",
    "    out_img = np.uint8(np.dstack((binary_img, binary_img, binary_img))*255)\n",
    "    \n",
    "    ploty = np.linspace(0,height-1, height)\n",
    "    left_fitx = left_fit[0]*ploty**2 + left_fit[1]*ploty + left_fit[2]\n",
    "    right_fitx = right_fit[0]*ploty**2 + right_fit[1]*ploty + right_fit[2]\n",
    "\n",
    "    out_img[left_lane_y, left_lane_x] = [255, 0, 0]\n",
    "    out_img[right_lane_y, right_lane_x] = [0, 0, 255]\n",
    "    \n",
    "    return ret, out_img, left_fit, right_fit, ploty, left_fitx, right_fitx, left_lane_x, right_lane_x, left_lane_y, right_lane_y"
   ]
  },
  {
   "cell_type": "code",
   "execution_count": null,
   "metadata": {
    "collapsed": true
   },
   "outputs": [],
   "source": [
    "def fit_using_prev_window(img, left_fit_prev, right_fit_prev, margin):\n",
    "    \"\"\"\n",
    "    fit line to binary image of lane lines using previous window\n",
    "    \"\"\"\n",
    "    \n",
    "    nonzero = img.nonzero()\n",
    "\n",
    "    left_lane_pxs = ((nonzero[0] > (left_fit_prev[0]*(nonzero[1]**2) + left_fit_prev[1]*nonzero[1] + left_fit_prev[2] - margin)) & \n",
    "                      (nonzero[0] < (left_fit_prev[0]*(nonzero[1]**2) + left_fit_prev[1]*nonzero[1] + left_fit_prev[2] + margin))) \n",
    "    right_lane_pxs = ((nonzero[0] > (right_fit_prev[0]*(nonzero[1]**2) + right_fit_prev[1]*nonzero[1] + right_fit_prev[2] - margin)) & \n",
    "                       (nonzero[0] < (right_fit_prev[0]*(nonzero[1]**2) + right_fit_prev[1]*nonzero[1] + right_fit_prev[2] + margin)))  \n",
    "\n",
    "    left_lane_x = nonzero[1][left_lane_pxs]\n",
    "    left_lane_y = nonzero[0][left_lane_pxs] \n",
    "    right_lane_x = nonzero[1][right_lane_pxs]\n",
    "    right_lane_y = nonzero[0][right_lane_pxs]\n",
    "    \n",
    "    left_fit_new = None\n",
    "    right_fit_new = None\n",
    "    ret = True\n",
    "    \n",
    "    if len(left_lane_x) != 0:\n",
    "        left_fit_new = np.polyfit(left_lane_y, left_lane_x, 2)\n",
    "    else:\n",
    "        ret = False\n",
    "        \n",
    "    if len(right_lane_x) != 0:\n",
    "        right_fit_new = np.polyfit(right_lane_y, right_lane_x, 2)\n",
    "    else:\n",
    "        ret = False\n",
    "\n",
    "    return ret, left_fit_new, right_fit_new, left_lane_x, right_lane_x, left_lane_y, right_lane_y"
   ]
  }
 ],
 "metadata": {
  "kernelspec": {
   "display_name": "Python 3",
   "language": "python",
   "name": "python3"
  },
  "language_info": {
   "codemirror_mode": {
    "name": "ipython",
    "version": 3
   },
   "file_extension": ".py",
   "mimetype": "text/x-python",
   "name": "python",
   "nbconvert_exporter": "python",
   "pygments_lexer": "ipython3",
   "version": "3.5.2"
  },
  "widgets": {
   "state": {},
   "version": "1.1.2"
  }
 },
 "nbformat": 4,
 "nbformat_minor": 2
}
